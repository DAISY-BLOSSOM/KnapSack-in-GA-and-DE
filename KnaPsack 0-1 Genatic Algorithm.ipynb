{
 "cells": [
  {
   "cell_type": "markdown",
   "id": "7b92810d",
   "metadata": {},
   "source": [
    "# 0-1 knapsack using genetic algorithms"
   ]
  },
  {
   "cell_type": "markdown",
   "id": "e28b1f7a",
   "metadata": {},
   "source": [
    "##### Import needed libraries"
   ]
  },
  {
   "cell_type": "code",
   "execution_count": 1,
   "id": "10dd95e2",
   "metadata": {},
   "outputs": [],
   "source": [
    "import numpy as np\n",
    "import collections"
   ]
  },
  {
   "cell_type": "markdown",
   "id": "e0475ad6",
   "metadata": {},
   "source": [
    "#### Define variables"
   ]
  },
  {
   "cell_type": "code",
   "execution_count": 2,
   "id": "e49004af",
   "metadata": {},
   "outputs": [],
   "source": [
    "Item = collections.namedtuple('knapsack', 'weight value')  \n",
    "#namedtuple is type of container like dictionaries in the collections module\n",
    "knapsack_capacity = 0\n",
    "knapsack_max_weight = 0\n",
    "population_size = 0\n",
    "probability_of_crossover = 0.0\n",
    "probability_of_mutation = 0.0\n",
    "generations_number = 0\n"
   ]
  },
  {
   "cell_type": "code",
   "execution_count": 3,
   "id": "46584064",
   "metadata": {},
   "outputs": [],
   "source": [
    "# Named Tuple, its values are accessible through fields names as well, e.g Individual.weight e.t.c in this case.\n",
    "Individual = collections.namedtuple('population', 'chromosome weight value')\n"
   ]
  },
  {
   "cell_type": "markdown",
   "id": "2cd96fc2",
   "metadata": {},
   "source": [
    "##### Generate Population"
   ]
  },
  {
   "cell_type": "code",
   "execution_count": 4,
   "id": "86062098",
   "metadata": {},
   "outputs": [],
   "source": [
    "def generate_population(size, knapsack_capacity):\n",
    "    new_population = []\n",
    "\n",
    "    for i in range(size):\n",
    "        item = np.random.randint(0, knapsack_capacity - 1)\n",
    "\n",
    "        ### Initialize Random population\n",
    "        new_population.append(\n",
    "            Individual( chromosome=np.random.randint(2, size=(1, knapsack_capacity))[0], weight=-1, value=-1 )\n",
    "        )\n",
    "\n",
    "    return new_population"
   ]
  },
  {
   "cell_type": "markdown",
   "id": "0619b07d",
   "metadata": {},
   "source": [
    "##### Select a parent from the generated Population"
   ]
  },
  {
   "cell_type": "code",
   "execution_count": 5,
   "id": "7ab0d29d",
   "metadata": {},
   "outputs": [],
   "source": [
    "def parent_selection(population):\n",
    "    parents = []\n",
    "    total_value = 0\n",
    "\n",
    "    for individual in population:\n",
    "        total_value += individual.value\n",
    "\n",
    "    # Find Fittest Individual to select parent\n",
    "    highest, second_highest = find_two_fittest_individuals(population)\n",
    "    parents.append(highest)\n",
    "    parents.append(second_highest)\n",
    "\n",
    "    # Check Total sum value of fittest individuals\n",
    "    sum_value = 0\n",
    "    while len(parents) < len(population):\n",
    "        individual = np.random.randint(0, len(population) - 1)\n",
    "        sum_value += population[individual].value\n",
    "\n",
    "        if sum_value >= total_value:\n",
    "            parents.append(population[individual])\n",
    "\n",
    "    return parents"
   ]
  },
  {
   "cell_type": "markdown",
   "id": "578ca697",
   "metadata": {},
   "source": [
    "##### Apply Crossover & Mutation"
   ]
  },
  {
   "cell_type": "code",
   "execution_count": 6,
   "id": "e6789729",
   "metadata": {},
   "outputs": [],
   "source": [
    "def apply_crossover(population, knapsack_capacity, probability_of_crossover, probability_of_mutation):\n",
    "    crossovered_population = []\n",
    "\n",
    "    while len(crossovered_population) < len(population):\n",
    "        if np.random.randint(0, 100) <= probability_of_crossover * 100:\n",
    "            parent_a = np.random.randint(0, len(population) - 1)\n",
    "            parent_b = np.random.randint(0, len(population) - 1)\n",
    "\n",
    "            chromosome_a = np.concatenate((population[parent_a].chromosome[:int(knapsack_capacity / 2)],\n",
    "                                        population[parent_b].chromosome[int(knapsack_capacity / 2):]))\n",
    "            \n",
    "            chromosome_b = np.concatenate((population[parent_a].chromosome[int(knapsack_capacity / 2):],\n",
    "                                        population[parent_b].chromosome[:int(knapsack_capacity / 2)]))\n",
    "            # Apply Mutation on chromosomes\n",
    "            chromosome_a = apply_mutation(chromosome_a, knapsack_capacity, probability_of_mutation)\n",
    "\n",
    "            chromosome_b = apply_mutation(chromosome_b, knapsack_capacity, probability_of_mutation)\n",
    "\n",
    "            crossovered_population.append(Individual(chromosome=chromosome_a,weight=-1,value=-1))\n",
    "            \n",
    "            crossovered_population.append(Individual(chromosome=chromosome_b,weight=-1,value=-1))\n",
    "\n",
    "    return crossovered_population"
   ]
  },
  {
   "cell_type": "code",
   "execution_count": 7,
   "id": "cf6fca49",
   "metadata": {},
   "outputs": [],
   "source": [
    "def calculate_weight_value(chromosome, knapsack):\n",
    "    weight = 0\n",
    "    value = 0\n",
    "\n",
    "    for i, gene in enumerate(chromosome):\n",
    "        if gene == 1:\n",
    "            weight += knapsack[i].weight\n",
    "            value += knapsack[i].value\n",
    "\n",
    "    return weight, value"
   ]
  },
  {
   "cell_type": "code",
   "execution_count": 8,
   "id": "356ca80f",
   "metadata": {},
   "outputs": [],
   "source": [
    "def apply_mutation(chromosome, knapsack_capacity, probability_of_mutation):\n",
    "    if np.random.randint(0, 100) <= probability_of_mutation * 100:\n",
    "        genes = np.random.randint(0, 2)\n",
    "\n",
    "        for i in range(genes):\n",
    "            gene = np.random.randint(0, knapsack_capacity - 1)\n",
    "            if chromosome[gene] == 0:\n",
    "                chromosome[gene] = 1\n",
    "            else:\n",
    "                chromosome[gene] = 0\n",
    "\n",
    "    return chromosome"
   ]
  },
  {
   "cell_type": "code",
   "execution_count": 9,
   "id": "0722f994",
   "metadata": {},
   "outputs": [],
   "source": [
    "def get_value(chromosome) :\n",
    "    return chromosome.value"
   ]
  },
  {
   "cell_type": "code",
   "execution_count": 10,
   "id": "486b753f",
   "metadata": {},
   "outputs": [],
   "source": [
    "def find_two_fittest_individuals(population):\n",
    "    population.sort(key=get_value, reverse=True)\n",
    "    return population[0], population[1]"
   ]
  },
  {
   "cell_type": "code",
   "execution_count": 11,
   "id": "711b77d4",
   "metadata": {},
   "outputs": [],
   "source": [
    "def calculate_fitness(population, items, max_weight):\n",
    "    for i in range(len(population)) :\n",
    "        weight, value = calculate_weight_value(population[i].chromosome, items)\n",
    "        population[i] = population[i]._replace(weight=weight, value=value)\n",
    "\n",
    "        while (weight > max_weight) :\n",
    "            apply_mutation(population[i].chromosome, knapsack_capacity, probability_of_mutation)\n",
    "            weight, value = calculate_weight_value(population[i].chromosome, items)\n",
    "            population[i] = population[i]._replace(weight=weight, value=value)\n",
    "\n",
    "    return population"
   ]
  },
  {
   "cell_type": "code",
   "execution_count": 12,
   "id": "0255ac66",
   "metadata": {},
   "outputs": [],
   "source": [
    "def execute_genetic_algo():\n",
    "   \n",
    "    population = generate_population(population_size, knapsack_capacity)\n",
    "    \n",
    "    print(generations_number)\n",
    "    \n",
    "    value = []\n",
    "    iteration = []\n",
    "    best_solution = None\n",
    "\n",
    "    for i in range(generations_number):\n",
    "        \n",
    "        ## Calculate Fitness of initial population\n",
    "        fitness = calculate_fitness(population, items, max_weight)\n",
    "        \n",
    "        ## Select parent\n",
    "        parents = parent_selection(fitness)\n",
    "        \n",
    "        ## Apply crossover and mutation\n",
    "        crossovered = apply_crossover(parents, knapsack_capacity, probability_of_crossover, probability_of_mutation)\n",
    "        ## Calculate Fitness of population\n",
    "        population = calculate_fitness(crossovered, items, max_weight)\n",
    "        ## Find fittest cadidates\n",
    "        candidate, _ = find_two_fittest_individuals(population)\n",
    "        if best_solution is None:\n",
    "            best_solution = candidate\n",
    "        elif candidate.value > best_solution.value:\n",
    "            best_solution = candidate\n",
    "\n",
    "        value.append(best_solution.value)\n",
    "        iteration.append(i)\n",
    "        \n",
    "        ### print Every 50th generation results\n",
    "        if i % 50 == 0:\n",
    "            print ('\\nCurrent generation  : {}'.format(i))\n",
    "            print ('  Best solution so far: {}'.format(best_solution.value))\n",
    "\n",
    "    print ('\\n--------------------------------')\n",
    "    print (' solution found:')\n",
    "    print ('\\nWeight: {}'.format(best_solution.weight))\n",
    "    print ('Value : {}'.format(best_solution.value))\n",
    "    print ('\\nThe Best Chromosome: {}'.format(best_solution.chromosome))\n"
   ]
  },
  {
   "cell_type": "code",
   "execution_count": 13,
   "id": "e0c63057",
   "metadata": {
    "scrolled": false
   },
   "outputs": [
    {
     "name": "stdout",
     "output_type": "stream",
     "text": [
      "Enter the knapsack capacity:\n",
      "2\n",
      "Enter the maximum weight of knapsack:\n",
      "5\n",
      "Enter the weight of item1\n",
      "6\n",
      "Enter the Value of item1\n",
      "5\n",
      "Enter the weight of item2\n",
      "5\n",
      "Enter the Value of item2\n",
      "4\n",
      " Generated Parameters             \n",
      "----------------------------------\n",
      "Population size      : 87\n",
      "Number of generations: 193\n",
      "Crossover probability: 0.4\n",
      "Mutation probability : 0.3\n",
      "knapsack capacity    : 2\n",
      "Max backpack weight  : 5\n",
      "193\n",
      "\n",
      "Current generation  : 0\n",
      "  Best solution so far: 4\n",
      "\n",
      "Current generation  : 50\n",
      "  Best solution so far: 4\n",
      "\n",
      "Current generation  : 100\n",
      "  Best solution so far: 4\n",
      "\n",
      "Current generation  : 150\n",
      "  Best solution so far: 4\n",
      "\n",
      "--------------------------------\n",
      " solution found:\n",
      "\n",
      "Weight: 5\n",
      "Value : 4\n",
      "\n",
      "The Best Chromosome: [0 1]\n"
     ]
    }
   ],
   "source": [
    "if __name__ == \"__main__\":\n",
    "     \n",
    "       \n",
    "        # Initialize random population size\n",
    "        population_size = np.random.randint(50, 100)    \n",
    "        \n",
    "        # Specify Random Number for the generations / offsring\n",
    "        generations_number = np.random.randint(30, 700)\n",
    "        \n",
    "         #### Crossover and Mutation Probabilities\n",
    "        probability_of_crossover = round(np.random.uniform(low=0.3, high=0.8), 1)\n",
    "        probability_of_mutation  = round(np.random.uniform(low=0.0, high=0.5), 1)\n",
    "        \n",
    "        ## Initialize capacity\n",
    "        print('Enter the knapsack capacity:')\n",
    "        knapsack_capacity = int(input())\n",
    "        \n",
    "        ## Max weight\n",
    "        print('Enter the maximum weight of knapsack:')\n",
    "        max_weight = int(input())\n",
    "        \n",
    "\n",
    "        items = []\n",
    "        for i in range(knapsack_capacity):\n",
    "            print ('Enter the weight of item{}'.format(i+1))\n",
    "            weight=int(input())\n",
    "            print ('Enter the Value of item{}'.format(i+1))\n",
    "            value=int(input())\n",
    "            items.append(Item(weight, value))\n",
    "       \n",
    "    \n",
    "        print (' Generated Parameters             ')\n",
    "        print ('----------------------------------')\n",
    "        print ('Population size      : {}' .format(population_size))\n",
    "        print ('Number of generations: {}'.format(generations_number))\n",
    "        print ('Crossover probability: {}'.format(probability_of_crossover))\n",
    "        print ('Mutation probability : {}'.format(probability_of_mutation))\n",
    "        print ('knapsack capacity    : {}'.format(knapsack_capacity))\n",
    "        print ('Max backpack weight  : {}'.format(max_weight))\n",
    "        \n",
    "        \n",
    "        execute_genetic_algo()"
   ]
  },
  {
   "cell_type": "code",
   "execution_count": null,
   "id": "64315f32",
   "metadata": {},
   "outputs": [],
   "source": []
  },
  {
   "cell_type": "code",
   "execution_count": null,
   "id": "08d1044b",
   "metadata": {},
   "outputs": [],
   "source": []
  }
 ],
 "metadata": {
  "kernelspec": {
   "display_name": "Python 3",
   "language": "python",
   "name": "python3"
  },
  "language_info": {
   "codemirror_mode": {
    "name": "ipython",
    "version": 3
   },
   "file_extension": ".py",
   "mimetype": "text/x-python",
   "name": "python",
   "nbconvert_exporter": "python",
   "pygments_lexer": "ipython3",
   "version": "3.8.8"
  }
 },
 "nbformat": 4,
 "nbformat_minor": 5
}
